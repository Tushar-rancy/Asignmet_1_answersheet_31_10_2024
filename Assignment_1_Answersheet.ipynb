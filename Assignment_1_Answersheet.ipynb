{
  "nbformat": 4,
  "nbformat_minor": 0,
  "metadata": {
    "colab": {
      "provenance": [],
      "authorship_tag": "ABX9TyNowvVlZRWg1ejcT4jo5gfe",
      "include_colab_link": true
    },
    "kernelspec": {
      "name": "python3",
      "display_name": "Python 3"
    },
    "language_info": {
      "name": "python"
    }
  },
  "cells": [
    {
      "cell_type": "markdown",
      "metadata": {
        "id": "view-in-github",
        "colab_type": "text"
      },
      "source": [
        "<a href=\"https://colab.research.google.com/github/Tushar-rancy/Asignmet_1_answersheet_31_10_2024/blob/main/Assignment_1_Answersheet.ipynb\" target=\"_parent\"><img src=\"https://colab.research.google.com/assets/colab-badge.svg\" alt=\"Open In Colab\"/></a>"
      ]
    },
    {
      "cell_type": "markdown",
      "source": [
        " Q1. Explain the key features of Python that make it a popular choice for programming.\n",
        "\n",
        "Answer :\n",
        "  1. Python is easy to read language, syntax of python is simpler as compare to JAVA and C++.\n",
        "  2. Python is dynamic language, it dynamically run the program on basis of requirement.\n",
        "  3. Python has large community of developers.\n",
        "  4. Python has large set of useful libraries and active domains.\n",
        "  5. Python is compatible is object oriented programing and functional programing.\n",
        "\n"
      ],
      "metadata": {
        "id": "38ZO-bFB1SrD"
      }
    },
    {
      "cell_type": "markdown",
      "source": [
        "Q2. Describe the role of predefined keywords in Python and provide examples of how they are used in a\n",
        "   program.\n",
        "\n",
        "  Answer : Predefined keyword are keywords which has specific predefined task or use case and it can't be overridden and this predefined keyword can't be use as \t variables.\n",
        "\n",
        "   Examples :\n",
        "   \n",
        "    Print is predefined key word which is use to print output on screen.\n",
        "\t\t    \n",
        "        def is key word which is use to define function.\n",
        "\t\t    Other example of keywords are if, else, class, while, return, input, int ect.\n"
      ],
      "metadata": {
        "id": "IRbVnLLW1y49"
      }
    },
    {
      "cell_type": "markdown",
      "source": [
        "Q3. Compare and contrast mutable and immutable objects in Python with examples.\n",
        "\n",
        "  Answer : mutable objects are objected which can be modify after it creation.\n",
        "\t Example : List is mutable object (please refer below code for List mutability).\n"
      ],
      "metadata": {
        "id": "AaReqNwO2L1X"
      }
    },
    {
      "cell_type": "code",
      "execution_count": 4,
      "metadata": {
        "colab": {
          "base_uri": "https://localhost:8080/"
        },
        "id": "87Uk8iHO1RsH",
        "outputId": "134a54f5-d89e-4314-bdd4-6d240a06c6f2"
      },
      "outputs": [
        {
          "output_type": "stream",
          "name": "stdout",
          "text": [
            "['BMW', 'Audi', 'Porsche', 'Toyota', 'Ferrari', 'ford']\n"
          ]
        }
      ],
      "source": [
        "cars_list = ['BMW', 'Audi', 'Hyundai', 'Toyota', 'Ferrari', 'ford']\n",
        "cars_list[2] = 'Porsche'\n",
        "\n",
        "print(cars_list)\n",
        "\n",
        "# output : ['BMW', 'Audi', 'Porsche', 'Toyota', 'Ferrari', 'ford']\n",
        "\n",
        "#Here, we can see we are able to modify or change value in cars list, it shows mutability of list.\n",
        "#Other example of mutable objects are sets and dictionaries.\n"
      ]
    },
    {
      "cell_type": "markdown",
      "source": [
        "Q4.Discuss the different types of operators in Python and provide examples of how they are used ?\n",
        "\n",
        "Answer : Types of operators follows as\n",
        "\n",
        "\t 1. Arithmetic operators : +,-,*,/,//,**, %\n",
        "\t e.g. 2+3 = 5, 8-3 = 5, 5*1 = 5, 25/5 = 5, 26//5 = 5, 5**2 = 25, 25 % 5 = 0\n",
        "\n",
        "\t 2. Logical operators : and, or, not\n",
        "         e.g. True and true = true\n",
        "\t      false or true = true\n",
        "              not (false) = true\n",
        "\n",
        "         3. Comparison operator : <,>,==,<=,>=,!=\n",
        "\t e.g. 2<3 = true,   5>11 = false\n",
        "\t      10<= 10 = true    10 != 10 = false\n",
        "              \"Hi\" == \"Hello\" = false\n",
        "\n",
        "\t 4. assignment operators: =, +=, -=, *=, /=\n",
        "\t e.g. number = 1\n",
        "              number += 2   i.e. number = 3\n",
        "              number -= 1   i.e. number = 2\n",
        "\t      number *= 5   i.e. number = 10\n",
        " \t      number /= 2   i.e. number = 5\n"
      ],
      "metadata": {
        "id": "vDUfr2n8398z"
      }
    },
    {
      "cell_type": "code",
      "source": [
        "print(2+3)\n",
        "print(8-3)\n",
        "print(5*1)\n",
        "print(25/5)\n",
        "print(26//5)\n",
        "print(5**2)\n",
        "print(25 % 5)"
      ],
      "metadata": {
        "colab": {
          "base_uri": "https://localhost:8080/"
        },
        "id": "oDBCnHul2h61",
        "outputId": "ce7000a6-117d-4e15-a8a1-f7a2d0a9a73a"
      },
      "execution_count": 15,
      "outputs": [
        {
          "output_type": "stream",
          "name": "stdout",
          "text": [
            "5\n",
            "5\n",
            "5\n",
            "5.0\n",
            "5\n",
            "25\n",
            "0\n"
          ]
        }
      ]
    },
    {
      "cell_type": "code",
      "source": [
        "print(True and True)\n",
        "print(False or True)\n",
        "print(not (False))"
      ],
      "metadata": {
        "colab": {
          "base_uri": "https://localhost:8080/"
        },
        "id": "pcE2tfBc4Qb2",
        "outputId": "ab2cc8ae-6ed8-494e-d544-55627e7823ac"
      },
      "execution_count": 16,
      "outputs": [
        {
          "output_type": "stream",
          "name": "stdout",
          "text": [
            "True\n",
            "True\n",
            "True\n"
          ]
        }
      ]
    },
    {
      "cell_type": "code",
      "source": [
        "print(2<3)\n",
        "print(5>11)\n",
        "print(10<= 10)\n",
        "print(10 != 10)\n",
        "print(\"Hi\" == \"Hello\")"
      ],
      "metadata": {
        "colab": {
          "base_uri": "https://localhost:8080/"
        },
        "id": "BemYPjIj45Zz",
        "outputId": "66b03e6b-dfbf-46e5-9d38-d6e0c492218d"
      },
      "execution_count": 17,
      "outputs": [
        {
          "output_type": "stream",
          "name": "stdout",
          "text": [
            "True\n",
            "False\n",
            "True\n",
            "False\n",
            "False\n"
          ]
        }
      ]
    },
    {
      "cell_type": "code",
      "source": [
        "number = 1\n",
        "number += 2\n",
        "print(number)\n",
        "number -= 1\n",
        "print(number)\n",
        "number *= 5\n",
        "print(number)\n",
        "number /= 2\n",
        "print(number)"
      ],
      "metadata": {
        "colab": {
          "base_uri": "https://localhost:8080/"
        },
        "id": "ULT5Z--G5a-Y",
        "outputId": "d523316f-ca9c-4346-88ac-ee868775ac00"
      },
      "execution_count": 18,
      "outputs": [
        {
          "output_type": "stream",
          "name": "stdout",
          "text": [
            "3\n",
            "2\n",
            "10\n",
            "5.0\n"
          ]
        }
      ]
    },
    {
      "cell_type": "markdown",
      "source": [
        "Q5.Explain the concept of type casting in Python with examples.\n",
        "\n",
        "Answer:\n",
        "\n",
        "Type casting is defined as changing one datatype to another.\n",
        "There are 2 types of type casting.\n",
        "\n",
        "1. implisite type casting\n",
        "2. Explisite type casting"
      ],
      "metadata": {
        "id": "Fcm0d12F6AJe"
      }
    },
    {
      "cell_type": "code",
      "source": [
        "#Example :\n",
        "# 1. Implisite tyoe casting\n",
        "\n",
        "num1 = 10\n",
        "num2 = 16.26\n",
        "total = num1 + num2\n",
        "print(total)\n",
        "\n",
        "# 2. Explisite type casting\n",
        "\n",
        "total = num1 + int(num2)\n",
        "print(total)\n",
        "\n",
        "# in explisite type casting there is loss of data"
      ],
      "metadata": {
        "colab": {
          "base_uri": "https://localhost:8080/"
        },
        "id": "XwrwIPAh5lEk",
        "outputId": "5f8aa9e4-45e4-43dd-ffed-b35226753e04"
      },
      "execution_count": 20,
      "outputs": [
        {
          "output_type": "stream",
          "name": "stdout",
          "text": [
            "26.26\n",
            "26\n"
          ]
        }
      ]
    },
    {
      "cell_type": "markdown",
      "source": [
        "Q6.  How do conditional statements work in Python? Illustrate with examples.\n",
        "\n",
        "Answer :\n",
        "\n",
        "Conditional statements are use to take decsion from various given situations.\n",
        "Please below examples for working of conditional statement."
      ],
      "metadata": {
        "id": "fW4Wfm4-7wgr"
      }
    },
    {
      "cell_type": "code",
      "source": [
        "type_of_ticket = input(\"Please select ticket type from below\\n 'VIP'\\n 'REGULAR'\\n 'LIMITED'\\n\")\n",
        "\n",
        "if(type_of_ticket == 'VIP' or type_of_ticket == 'REGULAR' or type_of_ticket == 'LIMITED'):\n",
        "   if(type_of_ticket == 'VIP'):\n",
        "      print(\"You have selected VIP ticket\")\n",
        "      print(\"You are eligible for all rides of Amusment Park\")\n",
        "   elif(type_of_ticket == 'REGULAR'):\n",
        "      print(\"You have selected REGULAR ticket\")\n",
        "      print(\"You are eligible for all rides of Amusment Park except VIP rides\")\n",
        "   else:\n",
        "      print(\"You have selected LIMITED ticket\")\n",
        "      print(\"You are eligible for all rides of Amusment Park except VIP and Regular rides\")\n",
        "\n",
        "else:\n",
        "   print(\"Please select correct ticket type\")\n"
      ],
      "metadata": {
        "colab": {
          "base_uri": "https://localhost:8080/"
        },
        "id": "Ls52ZNuA7S4e",
        "outputId": "2ced2f38-6844-4d37-cee0-c25fda192bed"
      },
      "execution_count": 33,
      "outputs": [
        {
          "output_type": "stream",
          "name": "stdout",
          "text": [
            "Please select ticket type from below\n",
            " 'VIP'\n",
            " 'REGULAR'\n",
            " 'LIMITED'\n",
            "NA\n",
            "Please select correct ticket type\n"
          ]
        }
      ]
    },
    {
      "cell_type": "markdown",
      "source": [
        "Q7. Describe the different types of loops in Python and their use cases with examples.\n",
        "\n",
        "Answer:\n",
        "\n",
        "There are two primary type of loops in python follow as\n",
        "\n",
        "1. For loop : it is use to iterate over sequence of elements.\n",
        "2. while loop : it is use to iterate until specific condition become false."
      ],
      "metadata": {
        "id": "2zgUNyGuACTu"
      }
    },
    {
      "cell_type": "code",
      "source": [
        "# for loop :\n",
        "\n",
        "for i in range(1,11):\n",
        "   print(i)\n",
        "\n",
        "str1 = \"Hi I am Tushar Gatkal\"\n",
        "for i in str1:\n",
        "   print(i)\n",
        "\n",
        "list_1 = ['BMW', 'Audi', 'Porsche', 'Toyota', 'Ferrari', 'ford']\n",
        "for i in list_1:\n",
        "   print(i)\n",
        "\n",
        "# While loop :\n",
        "\n",
        "i = 1\n",
        "while(i<=10):\n",
        "   print(i)\n",
        "   i+=1\n",
        "\n",
        "str2 = \"Hi I am Tushar Gatkal\"\n",
        "i = 0\n",
        "while(i<len(str2)):\n",
        "   print(str2[i])\n",
        "   i+=1\n",
        "\n",
        "list_2 = ['BMW', 'Audi', 'Porsche', 'Toyota', 'Ferrari', 'ford']\n",
        "i = 0\n",
        "while(i<len(list_2)):\n",
        "   print(list_2[i])\n",
        "   i+=1"
      ],
      "metadata": {
        "colab": {
          "base_uri": "https://localhost:8080/"
        },
        "id": "yxk1NF_a9Fi3",
        "outputId": "6a9dd927-d93b-430f-da99-e7437900e33e"
      },
      "execution_count": 39,
      "outputs": [
        {
          "output_type": "stream",
          "name": "stdout",
          "text": [
            "1\n",
            "2\n",
            "3\n",
            "4\n",
            "5\n",
            "6\n",
            "7\n",
            "8\n",
            "9\n",
            "10\n",
            "H\n",
            "i\n",
            " \n",
            "I\n",
            " \n",
            "a\n",
            "m\n",
            " \n",
            "T\n",
            "u\n",
            "s\n",
            "h\n",
            "a\n",
            "r\n",
            " \n",
            "G\n",
            "a\n",
            "t\n",
            "k\n",
            "a\n",
            "l\n",
            "BMW\n",
            "Audi\n",
            "Porsche\n",
            "Toyota\n",
            "Ferrari\n",
            "ford\n",
            "1\n",
            "2\n",
            "3\n",
            "4\n",
            "5\n",
            "6\n",
            "7\n",
            "8\n",
            "9\n",
            "10\n",
            "H\n",
            "i\n",
            " \n",
            "I\n",
            " \n",
            "a\n",
            "m\n",
            " \n",
            "T\n",
            "u\n",
            "s\n",
            "h\n",
            "a\n",
            "r\n",
            " \n",
            "G\n",
            "a\n",
            "t\n",
            "k\n",
            "a\n",
            "l\n",
            "BMW\n",
            "Audi\n",
            "Porsche\n",
            "Toyota\n",
            "Ferrari\n",
            "ford\n"
          ]
        }
      ]
    },
    {
      "cell_type": "code",
      "source": [],
      "metadata": {
        "id": "F_w61lV4BPNi"
      },
      "execution_count": null,
      "outputs": []
    }
  ]
}